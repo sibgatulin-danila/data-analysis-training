{
 "cells": [
  {
   "cell_type": "code",
   "execution_count": 1,
   "metadata": {},
   "outputs": [],
   "source": [
    "from pymatreader import read_mat\n",
    "import numpy as np\n",
    "import matplotlib.pyplot as plt\n",
    "\n",
    "from sklearn.linear_model import LogisticRegression"
   ]
  },
  {
   "cell_type": "code",
   "execution_count": 2,
   "metadata": {},
   "outputs": [],
   "source": [
    "result = read_mat('./ex3data1.mat')\n",
    "X = np.array(result['X'])\n",
    "y = np.array(result['y'])"
   ]
  },
  {
   "cell_type": "code",
   "execution_count": 3,
   "metadata": {},
   "outputs": [
    {
     "data": {
      "text/plain": [
       "array([10, 10, 10, 10, 10, 10, 10, 10, 10, 10], dtype=uint8)"
      ]
     },
     "execution_count": 3,
     "metadata": {},
     "output_type": "execute_result"
    }
   ],
   "source": [
    "y[:10]"
   ]
  },
  {
   "cell_type": "code",
   "execution_count": 4,
   "metadata": {},
   "outputs": [
    {
     "data": {
      "text/plain": [
       "((5000, 400), (5000,))"
      ]
     },
     "execution_count": 4,
     "metadata": {},
     "output_type": "execute_result"
    }
   ],
   "source": [
    "X.shape, y.shape"
   ]
  },
  {
   "cell_type": "code",
   "execution_count": 5,
   "metadata": {},
   "outputs": [],
   "source": [
    "def print_digit(digit_data):\n",
    "    plt.imshow(digit_data.reshape(20, 20).T)"
   ]
  },
  {
   "cell_type": "code",
   "execution_count": 6,
   "metadata": {},
   "outputs": [
    {
     "data": {
      "image/png": "[encoded data removed]",
      "text/plain": [
       "<Figure size 432x288 with 1 Axes>"
      ]
     },
     "metadata": {
      "needs_background": "light"
     },
     "output_type": "display_data"
    }
   ],
   "source": [
    "print_digit(X[499])"
   ]
  },
  {
   "cell_type": "code",
   "execution_count": 7,
   "metadata": {},
   "outputs": [
    {
     "data": {
      "text/plain": [
       "array([ 1,  2,  3,  4,  5,  6,  7,  8,  9, 10], dtype=uint8)"
      ]
     },
     "execution_count": 7,
     "metadata": {},
     "output_type": "execute_result"
    }
   ],
   "source": [
    "labels_ = np.unique(y)\n",
    "labels_"
   ]
  },
  {
   "cell_type": "code",
   "execution_count": 8,
   "metadata": {},
   "outputs": [
    {
     "data": {
      "text/plain": [
       "500.0"
      ]
     },
     "execution_count": 8,
     "metadata": {},
     "output_type": "execute_result"
    }
   ],
   "source": [
    "training_set_targets = np.zeros(y.shape)\n",
    "training_set_targets[0 * 500:0 * 500 + 500] += 1\n",
    "np.sum(training_set_targets)"
   ]
  },
  {
   "cell_type": "code",
   "execution_count": 9,
   "metadata": {},
   "outputs": [
    {
     "data": {
      "text/plain": [
       "[LogisticRegression(max_iter=1000),\n",
       " LogisticRegression(max_iter=1000),\n",
       " LogisticRegression(max_iter=1000),\n",
       " LogisticRegression(max_iter=1000),\n",
       " LogisticRegression(max_iter=1000),\n",
       " LogisticRegression(max_iter=1000),\n",
       " LogisticRegression(max_iter=1000),\n",
       " LogisticRegression(max_iter=1000),\n",
       " LogisticRegression(max_iter=1000),\n",
       " LogisticRegression(max_iter=1000)]"
      ]
     },
     "execution_count": 9,
     "metadata": {},
     "output_type": "execute_result"
    }
   ],
   "source": [
    "models_set = []\n",
    "for label_ in labels_:\n",
    "    shift_index = (label_-1) * 500\n",
    "    training_set_targets = np.zeros(y.shape)\n",
    "    training_set_targets[shift_index:shift_index + 500] += 1\n",
    "    model = LogisticRegression(max_iter=1000, penalty='l2')\n",
    "    model.fit(X, training_set_targets)\n",
    "    models_set.append(model)\n",
    "models_set"
   ]
  },
  {
   "cell_type": "code",
   "execution_count": 17,
   "metadata": {},
   "outputs": [
    {
     "name": "stdout",
     "output_type": "stream",
     "text": [
      "[0, 0, 0, 0, 0, 0, 0, 0, 0, 0]\n"
     ]
    }
   ],
   "source": [
    "y = [val if val != 10 else 0 for val in y]\n",
    "print(y[:10])\n",
    "training_set_len = X.shape[0]\n",
    "incorrect_predictions = 0\n",
    "for digit_idx, digit in enumerate(X):\n",
    "    predictions = [clf.predict_proba([digit])[0][1] for clf in models_set]\n",
    "    predicted_digit = np.argmax(predictions)\n",
    "    if predicted_digit != y[digit_idx]:\n",
    "        incorrect_predictions += 1\n"
   ]
  },
  {
   "cell_type": "code",
   "execution_count": 18,
   "metadata": {},
   "outputs": [
    {
     "name": "stdout",
     "output_type": "stream",
     "text": [
      "accuracy of logistic regression one vs all: 94.46%\n"
     ]
    }
   ],
   "source": [
    "# You should see that the training set accuracy is about 94.9%\n",
    "accuracy = (training_set_len - incorrect_predictions) / training_set_len * 100\n",
    "print(f'accuracy of logistic regression one vs all: {accuracy}%')"
   ]
  },
  {
   "cell_type": "code",
   "execution_count": null,
   "metadata": {},
   "outputs": [],
   "source": []
  }
 ],
 "metadata": {
  "kernelspec": {
   "display_name": "Python 3.8.13 ('data-analyst-training')",
   "language": "python",
   "name": "python3"
  },
  "language_info": {
   "codemirror_mode": {
    "name": "ipython",
    "version": 3
   },
   "file_extension": ".py",
   "mimetype": "text/x-python",
   "name": "python",
   "nbconvert_exporter": "python",
   "pygments_lexer": "ipython3",
   "version": "3.8.13"
  },
  "orig_nbformat": 4,
  "vscode": {
   "interpreter": {
    "hash": "b9c4ffbaaf698ff11c2732a0a2ff7b1254a5fa5b9528ca5a5974812b1d85747d"
   }
  }
 },
 "nbformat": 4,
 "nbformat_minor": 2
}
