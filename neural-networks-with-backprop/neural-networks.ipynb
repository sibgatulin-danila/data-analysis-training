{
 "cells": [
  {
   "cell_type": "code",
   "execution_count": 4,
   "metadata": {},
   "outputs": [],
   "source": [
    "from pymatreader import read_mat\n",
    "import numpy as np\n",
    "import matplotlib.pyplot as plt"
   ]
  },
  {
   "cell_type": "code",
   "execution_count": 5,
   "metadata": {},
   "outputs": [],
   "source": [
    "ex4_data = read_mat('./data/ex4data1.mat')\n",
    "X = np.array(ex4_data['X'])\n",
    "y = np.array(ex4_data['y'])\n",
    "\n",
    "ex4_weights = read_mat('../neural-networks/ex3weights.mat')\n",
    "theta_1 = ex4_weights['Theta1']\n",
    "theta_2 = ex4_weights['Theta2']\n",
    "theta_1.shape, theta_2.shape\n",
    "\n",
    "nn_params = np.hstack([theta_1.reshape((-1)), theta_2.reshape(-1)])\n",
    "input_layer_size = 400\n",
    "hidden_layer_size = 25\n",
    "num_labels = 10"
   ]
  },
  {
   "cell_type": "code",
   "execution_count": null,
   "metadata": {},
   "outputs": [],
   "source": []
  },
  {
   "cell_type": "code",
   "execution_count": 6,
   "metadata": {},
   "outputs": [
    {
     "data": {
      "text/plain": [
       "(array([[0., 0., 0., 0., 0., 0., 0., 0., 0., 0.],\n",
       "        [0., 0., 0., 0., 0., 0., 0., 0., 0., 0.],\n",
       "        [0., 0., 0., 0., 0., 0., 0., 0., 0., 0.],\n",
       "        [0., 0., 0., 0., 0., 0., 0., 0., 0., 0.],\n",
       "        [0., 0., 0., 0., 0., 0., 0., 0., 0., 0.],\n",
       "        [0., 0., 0., 0., 0., 0., 0., 0., 0., 0.],\n",
       "        [0., 0., 0., 0., 0., 0., 0., 0., 0., 0.],\n",
       "        [0., 0., 0., 0., 0., 0., 0., 0., 0., 0.],\n",
       "        [0., 0., 0., 0., 0., 0., 0., 0., 0., 0.],\n",
       "        [0., 0., 0., 0., 0., 0., 0., 0., 0., 0.]]),\n",
       " array([10, 10, 10, 10, 10, 10, 10, 10, 10, 10], dtype=uint8),\n",
       " (5000, 400),\n",
       " (5000,))"
      ]
     },
     "execution_count": 6,
     "metadata": {},
     "output_type": "execute_result"
    }
   ],
   "source": [
    "X[:10, :10], y[:10], X.shape, y.shape"
   ]
  },
  {
   "cell_type": "code",
   "execution_count": 7,
   "metadata": {},
   "outputs": [],
   "source": [
    "def print_digit(digit_data):\n",
    "    plt.imshow(digit_data.reshape(20, 20).T)"
   ]
  },
  {
   "cell_type": "code",
   "execution_count": 8,
   "metadata": {},
   "outputs": [
    {
     "data": {
      "image/png": "[encoded data removed]",
      "text/plain": [
       "<Figure size 432x288 with 1 Axes>"
      ]
     },
     "metadata": {
      "needs_background": "light"
     },
     "output_type": "display_data"
    }
   ],
   "source": [
    "print_digit(X[1000])"
   ]
  },
  {
   "cell_type": "code",
   "execution_count": 9,
   "metadata": {},
   "outputs": [
    {
     "data": {
      "text/plain": [
       "array([ 1,  2,  3,  4,  5,  6,  7,  8,  9, 10], dtype=uint8)"
      ]
     },
     "execution_count": 9,
     "metadata": {},
     "output_type": "execute_result"
    }
   ],
   "source": [
    "labels_ = np.unique(y)\n",
    "labels_"
   ]
  },
  {
   "cell_type": "code",
   "execution_count": 10,
   "metadata": {},
   "outputs": [
    {
     "data": {
      "text/plain": [
       "array([[0., 0., 0., 0., 0., 0., 0., 0., 0., 1.],\n",
       "       [0., 0., 0., 0., 0., 0., 0., 0., 0., 1.],\n",
       "       [0., 0., 0., 0., 0., 0., 0., 0., 0., 1.]])"
      ]
     },
     "execution_count": 10,
     "metadata": {},
     "output_type": "execute_result"
    }
   ],
   "source": [
    "# transform y to one hot encoding format\n",
    "y = y - 1\n",
    "shape = (y.size, y.max() + 1)\n",
    "y_one_hot = np.zeros(shape)\n",
    "rows = np.arange(y.size)\n",
    "y_one_hot[rows, y] = 1\n",
    "y_one_hot[0:3]"
   ]
  },
  {
   "cell_type": "code",
   "execution_count": 11,
   "metadata": {},
   "outputs": [],
   "source": [
    "# sigmoid is activation function in each layer, so i will use only one function name\n",
    "sigmoid = np.vectorize(lambda z: 1 / (1 + np.exp(-z)))"
   ]
  },
  {
   "cell_type": "code",
   "execution_count": 12,
   "metadata": {},
   "outputs": [],
   "source": [
    "add_bias = lambda r: np.hstack((np.ones((r.shape[0], 1)), r))"
   ]
  },
  {
   "cell_type": "code",
   "execution_count": 13,
   "metadata": {},
   "outputs": [],
   "source": [
    "row = X[0]"
   ]
  },
  {
   "cell_type": "code",
   "execution_count": 14,
   "metadata": {},
   "outputs": [],
   "source": [
    "def predict_proba(nn_params, input_layer_size, hidden_layer_size, num_labels, X):\n",
    "    features = X.reshape(1, X.size)\n",
    "    first_layer = add_bias(features)\n",
    "    hidden_layer_params = nn_params[0:(input_layer_size + 1) * hidden_layer_size].reshape((hidden_layer_size, input_layer_size + 1))\n",
    "    second_layer = hidden_layer_params.dot(first_layer.T).T\n",
    "    second_layer = add_bias(sigmoid(second_layer))\n",
    "    output_layer_params = nn_params[((input_layer_size + 1) * hidden_layer_size):].reshape((num_labels, hidden_layer_size + 1))\n",
    "    output_layer = sigmoid(output_layer_params.dot(second_layer.T).T)\n",
    "    return output_layer"
   ]
  },
  {
   "cell_type": "code",
   "execution_count": 15,
   "metadata": {},
   "outputs": [
    {
     "data": {
      "text/plain": [
       "array([[1.12661530e-04, 1.74127856e-03, 2.52696959e-03, 1.84032321e-05,\n",
       "        9.36263860e-03, 3.99270267e-03, 5.51517524e-03, 4.01468105e-04,\n",
       "        6.48072305e-03, 9.95734012e-01]])"
      ]
     },
     "execution_count": 15,
     "metadata": {},
     "output_type": "execute_result"
    }
   ],
   "source": [
    "predict_proba(nn_params, input_layer_size, hidden_layer_size, num_labels, row)"
   ]
  },
  {
   "cell_type": "code",
   "execution_count": 50,
   "metadata": {},
   "outputs": [],
   "source": [
    "# neural_network_params (nn_params)\n",
    "# input layer size\n",
    "# hidden layer size,\n",
    "# num labels\n",
    "# X\n",
    "# y\n",
    "def cost_function(nn_params, input_layer_size, hidden_layer_size, \n",
    "                    num_labels, X, y, lambda_ = 0.):\n",
    "    m = X.shape[0]\n",
    "    result = 0\n",
    "    for i in range(m):\n",
    "        prediction_probas = predict_proba(nn_params, input_layer_size, hidden_layer_size, num_labels, X[i])[0]\n",
    "        for k in range(num_labels):\n",
    "            first_part = -y[i, k] * np.log(prediction_probas[k])\n",
    "            second_part = (1 - y[i, k]) * np.log(1 - prediction_probas[k])\n",
    "            result += first_part - second_part\n",
    "\n",
    "    hidden_layer_params = nn_params[0:input_layer_size * hidden_layer_size]\n",
    "    from_params = input_layer_size * hidden_layer_size + \\\n",
    "        (input_layer_size + 1) * hidden_layer_size - input_layer_size * hidden_layer_size + 1\n",
    "    to_params = -((hidden_layer_size + 1) * num_labels - hidden_layer_size * num_labels) + 1\n",
    "    output_layer_params = nn_params[from_params:to_params]\n",
    "    lambda_suffix = lambda_ * (np.sum(np.hstack([hidden_layer_params ** 2, output_layer_params ** 2]))) / (2 * m)\n",
    "    return (1. / m) * result + lambda_suffix"
   ]
  },
  {
   "cell_type": "code",
   "execution_count": 51,
   "metadata": {},
   "outputs": [
    {
     "name": "stdout",
     "output_type": "stream",
     "text": [
      "(10000,) (250,)\n"
     ]
    }
   ],
   "source": [
    "J = cost_function(nn_params, input_layer_size, hidden_layer_size, num_labels,\n",
    "                    X, y_one_hot, 0.)"
   ]
  },
  {
   "cell_type": "code",
   "execution_count": 42,
   "metadata": {},
   "outputs": [
    {
     "data": {
      "text/plain": [
       "0.2876291651613203"
      ]
     },
     "execution_count": 42,
     "metadata": {},
     "output_type": "execute_result"
    }
   ],
   "source": [
    "# using the loaded\n",
    "# set of parameters for Theta1 and Theta2. You should see that the cost is\n",
    "# about 0.287629\n",
    "J"
   ]
  },
  {
   "cell_type": "code",
   "execution_count": 43,
   "metadata": {},
   "outputs": [
    {
     "data": {
      "text/plain": [
       "0.3830194148534119"
      ]
     },
     "execution_count": 43,
     "metadata": {},
     "output_type": "execute_result"
    }
   ],
   "source": [
    "J = cost_function(nn_params, input_layer_size, hidden_layer_size, num_labels,\n",
    "                    X, y_one_hot, 1.)\n",
    "# using the loaded\n",
    "# set of parameters for Theta1 and Theta2. You should see that\n",
    "# the cost is about 0.383770.\n",
    "J"
   ]
  },
  {
   "cell_type": "markdown",
   "metadata": {},
   "source": [
    "# Backpropagation"
   ]
  },
  {
   "cell_type": "code",
   "execution_count": 20,
   "metadata": {},
   "outputs": [
    {
     "data": {
      "text/plain": [
       "array([0.19661193, 0.25      ])"
      ]
     },
     "execution_count": 20,
     "metadata": {},
     "output_type": "execute_result"
    }
   ],
   "source": [
    "def sigmoid_grad(z):\n",
    "    return sigmoid(z) * (1 - sigmoid(z))\n",
    "\n",
    "sigmoid_grad([1, 0])"
   ]
  },
  {
   "cell_type": "code",
   "execution_count": 21,
   "metadata": {},
   "outputs": [],
   "source": [
    "# randomly initialize the weights to small values\n",
    "eps_init = 0.12\n",
    "W = np.random.rand(num_labels, hidden_layer_size + 1) * 2 * eps_init - eps_init"
   ]
  },
  {
   "cell_type": "code",
   "execution_count": 22,
   "metadata": {},
   "outputs": [
    {
     "data": {
      "text/plain": [
       "(-0.11975935748775304, 0.1196017783317048)"
      ]
     },
     "execution_count": 22,
     "metadata": {},
     "output_type": "execute_result"
    }
   ],
   "source": [
    "W.min(), W.max()"
   ]
  },
  {
   "cell_type": "code",
   "execution_count": 23,
   "metadata": {},
   "outputs": [
    {
     "ename": "SyntaxError",
     "evalue": "invalid syntax (3301906324.py, line 5)",
     "output_type": "error",
     "traceback": [
      "\u001b[0;36m  Input \u001b[0;32mIn [23]\u001b[0;36m\u001b[0m\n\u001b[0;31m    a0 =\u001b[0m\n\u001b[0m         ^\u001b[0m\n\u001b[0;31mSyntaxError\u001b[0m\u001b[0;31m:\u001b[0m invalid syntax\n"
     ]
    }
   ],
   "source": [
    "m = X.shape[0]\n",
    "error_sum = 0\n",
    "for i in range(m):\n",
    "    # feedforward\n",
    "    a0 = "
   ]
  }
 ],
 "metadata": {
  "kernelspec": {
   "display_name": "Python 3.8.13 ('data-analyst-training')",
   "language": "python",
   "name": "python3"
  },
  "language_info": {
   "codemirror_mode": {
    "name": "ipython",
    "version": 3
   },
   "file_extension": ".py",
   "mimetype": "text/x-python",
   "name": "python",
   "nbconvert_exporter": "python",
   "pygments_lexer": "ipython3",
   "version": "3.8.13"
  },
  "orig_nbformat": 4,
  "vscode": {
   "interpreter": {
    "hash": "b9c4ffbaaf698ff11c2732a0a2ff7b1254a5fa5b9528ca5a5974812b1d85747d"
   }
  }
 },
 "nbformat": 4,
 "nbformat_minor": 2
}
